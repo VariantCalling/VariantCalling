{
 "cells": [
  {
   "cell_type": "code",
   "execution_count": 23,
   "metadata": {},
   "outputs": [],
   "source": [
    "import numpy as np\n",
    "import tensorflow as tf\n",
    "import matplotlib.pyplot as plt"
   ]
  },
  {
   "cell_type": "code",
   "execution_count": 3,
   "metadata": {},
   "outputs": [],
   "source": [
    "# Set constants\n",
    "HEIGHT = 100\n",
    "WIDTH = 180\n",
    "\n",
    "# Custom Weighted MSE Loss\n",
    "\n",
    "def WeightedMSELoss(y_true: tf.Tensor, y_pred: tf.Tensor):  # in actuallity MSE might not be a good loss because of equidistance might use a sigmoid ish thing instead\n",
    "\n",
    "    with tf.device('/CPU:0'):\n",
    "      y_true_copy = tf.identity(y_true)\n",
    "\n",
    "    y_true_list = tf.keras.backend.eval(y_true_copy)\n",
    "\n",
    "    mutation_pos = set()  # place holder for now\n",
    "    ref = y_true_list[0]  # (WIDTH, 1)\n",
    "    for seq in y_true_list:\n",
    "      for i, (base1, base2) in enumerate(zip(seq, ref)):\n",
    "        if base1[0] != base2[0]:\n",
    "          mutation_pos.add(i)\n",
    "    mutation_pos = list(mutation_pos)\n",
    "\n",
    "    # Calculate squared error\n",
    "    squared_error = tf.square(y_true - y_pred)\n",
    "\n",
    "    # generate weight\n",
    "    tensor_shape = (HEIGHT, WIDTH)\n",
    "    weight_tensor = tf.zeros(tensor_shape)\n",
    "    for i in range(tensor_shape[0]):\n",
    "        weight_tensor = tf.tensor_scatter_nd_add(weight_tensor, indices=[[i, pos] for pos in mutation_pos], updates=(tf.ones_like(mutation_pos, dtype=tf.float32)))\n",
    "    weight_tensor = weight_tensor * 34\n",
    "    weight_tensor = weight_tensor + 1\n",
    "    weight_tensor = tf.reshape(weight_tensor, [HEIGHT, WIDTH, 1])\n",
    "\n",
    "    # apply weights\n",
    "    weighted_squared_error = squared_error * weight_tensor\n",
    "\n",
    "    # compute mean of loss\n",
    "    loss = tf.reduce_mean(weighted_squared_error)\n",
    "\n",
    "    return loss"
   ]
  },
  {
   "cell_type": "code",
   "execution_count": 6,
   "metadata": {},
   "outputs": [],
   "source": [
    "with tf.keras.utils.custom_object_scope({'WeightedMSELoss': WeightedMSELoss}):\n",
    "    model = tf.keras.models.load_model(f'model1_vgg_generic_weighted_epochs_23122023')"
   ]
  },
  {
   "cell_type": "code",
   "execution_count": 7,
   "metadata": {},
   "outputs": [],
   "source": [
    "import PickleUtil\n",
    "\n",
    "pk = PickleUtil.PickleLoader(clones=[\"3D7\", \"7G8\", \"DD2\"])"
   ]
  },
  {
   "cell_type": "code",
   "execution_count": 8,
   "metadata": {},
   "outputs": [],
   "source": [
    "def dna_sequence_to_numeric(dna_sequence_list):\n",
    "    base_mapping = {\"A\": 0, \"C\": 1, \"G\": 2, \"T\": 3}\n",
    "    num_sequences = len(dna_sequence_list)\n",
    "    max_sequence_length = max(len(seq) for seq in dna_sequence_list)\n",
    "\n",
    "    # Initialize a 2D NumPy array filled with zeros\n",
    "    numeric_array = np.zeros((num_sequences, max_sequence_length), dtype=int)\n",
    "\n",
    "    for i, seq in enumerate(dna_sequence_list):\n",
    "        for j, base in enumerate(seq):\n",
    "            numeric_array[i, j] = base_mapping.get(base, -1)\n",
    "\n",
    "    return numeric_array"
   ]
  },
  {
   "cell_type": "code",
   "execution_count": 9,
   "metadata": {},
   "outputs": [],
   "source": [
    "[_3D7_data, _7G8_data, _DD2_data] = pk.load_pickle()"
   ]
  },
  {
   "cell_type": "code",
   "execution_count": 10,
   "metadata": {},
   "outputs": [],
   "source": [
    "mix_data = np.concatenate((_3D7_data, _7G8_data, _DD2_data))\n",
    "np.random.shuffle(mix_data)"
   ]
  },
  {
   "cell_type": "code",
   "execution_count": 28,
   "metadata": {},
   "outputs": [
    {
     "data": {
      "text/plain": [
       "(1, 100, 180, 1)"
      ]
     },
     "execution_count": 28,
     "metadata": {},
     "output_type": "execute_result"
    }
   ],
   "source": [
    "crt_image_sameple = np.array([dna_sequence_to_numeric(mix_data[1440:1540])]).astype('float32') / 3\n",
    "crt_image_sameple = crt_image_sameple.reshape(crt_image_sameple.shape[0], 100, 178, 1)\n",
    "padding_config = ((0, 0), (0, 0), (0, 2), (0, 0))  # (before, after) for each dimension\n",
    "crt_image_sameple = np.pad(crt_image_sameple, padding_config, mode='constant', constant_values=1)\n",
    "crt_image_sameple.shape"
   ]
  },
  {
   "cell_type": "code",
   "execution_count": 29,
   "metadata": {},
   "outputs": [
    {
     "name": "stdout",
     "output_type": "stream",
     "text": [
      "1/1 [==============================] - 0s 132ms/step\n"
     ]
    }
   ],
   "source": [
    "denoised_image = model.predict(crt_image_sameple)"
   ]
  },
  {
   "cell_type": "code",
   "execution_count": 30,
   "metadata": {},
   "outputs": [],
   "source": [
    "reshaped_test_data = np.round(denoised_image[0] * 3).reshape(100,180)"
   ]
  },
  {
   "cell_type": "code",
   "execution_count": 31,
   "metadata": {},
   "outputs": [
    {
     "data": {
      "image/png": "[encoded data removed]",
      "text/plain": [
       "<Figure size 640x480 with 1 Axes>"
      ]
     },
     "metadata": {},
     "output_type": "display_data"
    }
   ],
   "source": [
    "plt.imshow(reshaped_test_data, cmap=\"jet\")\n",
    "plt.show()"
   ]
  },
  {
   "cell_type": "code",
   "execution_count": null,
   "metadata": {},
   "outputs": [],
   "source": []
  }
 ],
 "metadata": {
  "kernelspec": {
   "display_name": "base",
   "language": "python",
   "name": "python3"
  },
  "language_info": {
   "codemirror_mode": {
    "name": "ipython",
    "version": 3
   },
   "file_extension": ".py",
   "mimetype": "text/x-python",
   "name": "python",
   "nbconvert_exporter": "python",
   "pygments_lexer": "ipython3",
   "version": "3.11.3"
  }
 },
 "nbformat": 4,
 "nbformat_minor": 2
}
