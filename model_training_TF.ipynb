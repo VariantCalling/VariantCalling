{
  "nbformat": 4,
  "nbformat_minor": 0,
  "metadata": {
    "colab": {
      "provenance": []
    },
    "kernelspec": {
      "name": "python3",
      "display_name": "Python 3"
    },
    "accelerator": "GPU"
  },
  "cells": [
    {
      "metadata": {
        "id": "6Xdfnt7NDtqx",
        "outputId": "0a15bf69-d53d-46f2-b2c1-a1156c37149a",
        "colab": {
          "base_uri": "https://localhost:8080/"
        }
      },
      "cell_type": "code",
      "source": [
        "!pip install tensorflow\n",
        "!pip install keras"
      ],
      "execution_count": 1,
      "outputs": [
        {
          "output_type": "stream",
          "name": "stdout",
          "text": [
            "Looking in indexes: https://pypi.org/simple, https://us-python.pkg.dev/colab-wheels/public/simple/\n",
            "Requirement already satisfied: tensorflow in /usr/local/lib/python3.10/dist-packages (2.12.0)\n",
            "Requirement already satisfied: absl-py>=1.0.0 in /usr/local/lib/python3.10/dist-packages (from tensorflow) (1.4.0)\n",
            "Requirement already satisfied: astunparse>=1.6.0 in /usr/local/lib/python3.10/dist-packages (from tensorflow) (1.6.3)\n",
            "Requirement already satisfied: flatbuffers>=2.0 in /usr/local/lib/python3.10/dist-packages (from tensorflow) (23.3.3)\n",
            "Requirement already satisfied: gast<=0.4.0,>=0.2.1 in /usr/local/lib/python3.10/dist-packages (from tensorflow) (0.4.0)\n",
            "Requirement already satisfied: google-pasta>=0.1.1 in /usr/local/lib/python3.10/dist-packages (from tensorflow) (0.2.0)\n",
            "Requirement already satisfied: grpcio<2.0,>=1.24.3 in /usr/local/lib/python3.10/dist-packages (from tensorflow) (1.54.0)\n",
            "Requirement already satisfied: h5py>=2.9.0 in /usr/local/lib/python3.10/dist-packages (from tensorflow) (3.8.0)\n",
            "Requirement already satisfied: jax>=0.3.15 in /usr/local/lib/python3.10/dist-packages (from tensorflow) (0.4.10)\n",
            "Requirement already satisfied: keras<2.13,>=2.12.0 in /usr/local/lib/python3.10/dist-packages (from tensorflow) (2.12.0)\n",
            "Requirement already satisfied: libclang>=13.0.0 in /usr/local/lib/python3.10/dist-packages (from tensorflow) (16.0.0)\n",
            "Requirement already satisfied: numpy<1.24,>=1.22 in /usr/local/lib/python3.10/dist-packages (from tensorflow) (1.22.4)\n",
            "Requirement already satisfied: opt-einsum>=2.3.2 in /usr/local/lib/python3.10/dist-packages (from tensorflow) (3.3.0)\n",
            "Requirement already satisfied: packaging in /usr/local/lib/python3.10/dist-packages (from tensorflow) (23.1)\n",
            "Requirement already satisfied: protobuf!=4.21.0,!=4.21.1,!=4.21.2,!=4.21.3,!=4.21.4,!=4.21.5,<5.0.0dev,>=3.20.3 in /usr/local/lib/python3.10/dist-packages (from tensorflow) (3.20.3)\n",
            "Requirement already satisfied: setuptools in /usr/local/lib/python3.10/dist-packages (from tensorflow) (67.7.2)\n",
            "Requirement already satisfied: six>=1.12.0 in /usr/local/lib/python3.10/dist-packages (from tensorflow) (1.16.0)\n",
            "Requirement already satisfied: tensorboard<2.13,>=2.12 in /usr/local/lib/python3.10/dist-packages (from tensorflow) (2.12.2)\n",
            "Requirement already satisfied: tensorflow-estimator<2.13,>=2.12.0 in /usr/local/lib/python3.10/dist-packages (from tensorflow) (2.12.0)\n",
            "Requirement already satisfied: termcolor>=1.1.0 in /usr/local/lib/python3.10/dist-packages (from tensorflow) (2.3.0)\n",
            "Requirement already satisfied: typing-extensions>=3.6.6 in /usr/local/lib/python3.10/dist-packages (from tensorflow) (4.5.0)\n",
            "Requirement already satisfied: wrapt<1.15,>=1.11.0 in /usr/local/lib/python3.10/dist-packages (from tensorflow) (1.14.1)\n",
            "Requirement already satisfied: tensorflow-io-gcs-filesystem>=0.23.1 in /usr/local/lib/python3.10/dist-packages (from tensorflow) (0.32.0)\n",
            "Requirement already satisfied: wheel<1.0,>=0.23.0 in /usr/local/lib/python3.10/dist-packages (from astunparse>=1.6.0->tensorflow) (0.40.0)\n",
            "Requirement already satisfied: ml-dtypes>=0.1.0 in /usr/local/lib/python3.10/dist-packages (from jax>=0.3.15->tensorflow) (0.1.0)\n",
            "Requirement already satisfied: scipy>=1.7 in /usr/local/lib/python3.10/dist-packages (from jax>=0.3.15->tensorflow) (1.10.1)\n",
            "Requirement already satisfied: google-auth<3,>=1.6.3 in /usr/local/lib/python3.10/dist-packages (from tensorboard<2.13,>=2.12->tensorflow) (2.17.3)\n",
            "Requirement already satisfied: google-auth-oauthlib<1.1,>=0.5 in /usr/local/lib/python3.10/dist-packages (from tensorboard<2.13,>=2.12->tensorflow) (1.0.0)\n",
            "Requirement already satisfied: markdown>=2.6.8 in /usr/local/lib/python3.10/dist-packages (from tensorboard<2.13,>=2.12->tensorflow) (3.4.3)\n",
            "Requirement already satisfied: requests<3,>=2.21.0 in /usr/local/lib/python3.10/dist-packages (from tensorboard<2.13,>=2.12->tensorflow) (2.27.1)\n",
            "Requirement already satisfied: tensorboard-data-server<0.8.0,>=0.7.0 in /usr/local/lib/python3.10/dist-packages (from tensorboard<2.13,>=2.12->tensorflow) (0.7.0)\n",
            "Requirement already satisfied: tensorboard-plugin-wit>=1.6.0 in /usr/local/lib/python3.10/dist-packages (from tensorboard<2.13,>=2.12->tensorflow) (1.8.1)\n",
            "Requirement already satisfied: werkzeug>=1.0.1 in /usr/local/lib/python3.10/dist-packages (from tensorboard<2.13,>=2.12->tensorflow) (2.3.0)\n",
            "Requirement already satisfied: cachetools<6.0,>=2.0.0 in /usr/local/lib/python3.10/dist-packages (from google-auth<3,>=1.6.3->tensorboard<2.13,>=2.12->tensorflow) (5.3.0)\n",
            "Requirement already satisfied: pyasn1-modules>=0.2.1 in /usr/local/lib/python3.10/dist-packages (from google-auth<3,>=1.6.3->tensorboard<2.13,>=2.12->tensorflow) (0.3.0)\n",
            "Requirement already satisfied: rsa<5,>=3.1.4 in /usr/local/lib/python3.10/dist-packages (from google-auth<3,>=1.6.3->tensorboard<2.13,>=2.12->tensorflow) (4.9)\n",
            "Requirement already satisfied: requests-oauthlib>=0.7.0 in /usr/local/lib/python3.10/dist-packages (from google-auth-oauthlib<1.1,>=0.5->tensorboard<2.13,>=2.12->tensorflow) (1.3.1)\n",
            "Requirement already satisfied: urllib3<1.27,>=1.21.1 in /usr/local/lib/python3.10/dist-packages (from requests<3,>=2.21.0->tensorboard<2.13,>=2.12->tensorflow) (1.26.15)\n",
            "Requirement already satisfied: certifi>=2017.4.17 in /usr/local/lib/python3.10/dist-packages (from requests<3,>=2.21.0->tensorboard<2.13,>=2.12->tensorflow) (2022.12.7)\n",
            "Requirement already satisfied: charset-normalizer~=2.0.0 in /usr/local/lib/python3.10/dist-packages (from requests<3,>=2.21.0->tensorboard<2.13,>=2.12->tensorflow) (2.0.12)\n",
            "Requirement already satisfied: idna<4,>=2.5 in /usr/local/lib/python3.10/dist-packages (from requests<3,>=2.21.0->tensorboard<2.13,>=2.12->tensorflow) (3.4)\n",
            "Requirement already satisfied: MarkupSafe>=2.1.1 in /usr/local/lib/python3.10/dist-packages (from werkzeug>=1.0.1->tensorboard<2.13,>=2.12->tensorflow) (2.1.2)\n",
            "Requirement already satisfied: pyasn1<0.6.0,>=0.4.6 in /usr/local/lib/python3.10/dist-packages (from pyasn1-modules>=0.2.1->google-auth<3,>=1.6.3->tensorboard<2.13,>=2.12->tensorflow) (0.5.0)\n",
            "Requirement already satisfied: oauthlib>=3.0.0 in /usr/local/lib/python3.10/dist-packages (from requests-oauthlib>=0.7.0->google-auth-oauthlib<1.1,>=0.5->tensorboard<2.13,>=2.12->tensorflow) (3.2.2)\n",
            "Looking in indexes: https://pypi.org/simple, https://us-python.pkg.dev/colab-wheels/public/simple/\n",
            "Requirement already satisfied: keras in /usr/local/lib/python3.10/dist-packages (2.12.0)\n"
          ]
        }
      ]
    },
    {
      "metadata": {
        "id": "56DvKEfHDxcO"
      },
      "cell_type": "code",
      "source": [
        "import tensorflow as tf\n",
        "import numpy as np\n",
        "from keras.datasets import cifar10\n",
        "from keras.models import Sequential\n",
        "from keras.layers.convolutional import Conv2D, MaxPooling2D\n",
        "from keras.layers.core import Dense, Dropout, Activation, Flatten\n",
        "from keras.utils.np_utils import to_categorical\n",
        "import VariantCalling as vc\n",
        "import numpy as np\n",
        "import matplotlib.pyplot as plt"
      ],
      "execution_count": 1,
      "outputs": []
    },
    {
      "cell_type": "code",
      "source": [
        "img_row, img_col = 101, 178\n",
        "nb_epoch = 50\n",
        "batch_size = 16\n",
        "nb_filters = 6\n",
        "nb_conv = 8\n",
        "nb_pool = 8"
      ],
      "metadata": {
        "id": "Zg5GQa8wa42f"
      },
      "execution_count": 63,
      "outputs": []
    },
    {
      "metadata": {
        "id": "zdKdTSK3GLVa",
        "colab": {
          "base_uri": "https://localhost:8080/",
          "height": 690
        },
        "outputId": "7329a9ea-a9ac-4519-dfe4-a392dd2febe5"
      },
      "cell_type": "code",
      "source": [
        "\"\"\"\n",
        "This section to test ratio_gen, which is wrapper for alignments\n",
        "\"\"\"\n",
        "dg = vc.VariantCallingData()\n",
        "alignments, prob_lists = dg.simulate_clones(10,100,0.01,0.01)\n",
        "alignments_int = dg.char_to_int(alignments)\n",
        "alignment_int = dg.char_to_int(alignments[0])\n",
        "plt.rcParams['figure.dpi'] = 200\n",
        "#alignment_idx = mutation_types.index(mutation_index)\n",
        "plt.title(\"Mutation\")\n",
        "plt.imshow(alignment_int,cmap='jet')\n",
        "print(prob_lists[0])"
      ],
      "execution_count": 2,
      "outputs": [
        {
          "output_type": "stream",
          "name": "stdout",
          "text": [
            "[0.4898595887908764, 0.17504850159654275, 0.33509190961258084]\n"
          ]
        },
        {
          "output_type": "display_data",
          "data": {
            "text/plain": [
              "<Figure size 1280x960 with 1 Axes>"
            ],
            "image/png": "[encoded data removed]"
          },
          "metadata": {}
        }
      ]
    },
    {
      "cell_type": "code",
      "source": [
        "\"\"\"\n",
        "This section to test ratio_gen, which is wrapper for alignments\n",
        "\"\"\"\n",
        "dg = vc.VariantCallingData()\n",
        "alignments, prob_lists = dg.simulate_clones(2000,100,0.01,0.01)\n"
      ],
      "metadata": {
        "id": "CHfU1Ui7YrBf"
      },
      "execution_count": 56,
      "outputs": []
    },
    {
      "cell_type": "code",
      "source": [
        "print(len(alignments[0]))\n",
        "alignments = [dg._array_dup(i,101) for i in alignments]\n",
        "print(len(alignments))\n",
        "print(alignments[8].shape)\n",
        "print(alignments[8])\n",
        "alignments_int = dg.char_to_int(alignments)"
      ],
      "metadata": {
        "colab": {
          "base_uri": "https://localhost:8080/"
        },
        "id": "Hfb7xzapYs4j",
        "outputId": "26a35d37-a92e-476f-cace-8c046417e87b"
      },
      "execution_count": 57,
      "outputs": [
        {
          "output_type": "stream",
          "name": "stdout",
          "text": [
            "101\n",
            "2000\n",
            "(2, 101, 178)\n",
            "[[['T' 'G' 'T' ... 'A' 'C' 'T']\n",
            "  ['T' 'G' 'T' ... 'A' 'C' 'T']\n",
            "  ['T' 'G' 'T' ... 'A' 'C' 'T']\n",
            "  ...\n",
            "  ['T' 'G' 'T' ... 'A' 'C' 'T']\n",
            "  ['T' 'G' 'T' ... 'A' 'C' 'T']\n",
            "  ['T' 'G' 'T' ... 'A' 'C' 'T']]\n",
            "\n",
            " [['T' 'G' 'T' ... 'A' 'C' 'T']\n",
            "  ['T' 'G' 'T' ... 'A' 'C' 'T']\n",
            "  ['T' 'G' 'T' ... 'A' 'C' 'T']\n",
            "  ...\n",
            "  ['T' 'G' 'T' ... 'A' 'C' 'T']\n",
            "  ['T' 'G' 'T' ... 'A' 'C' 'T']\n",
            "  ['T' 'G' 'T' ... 'A' 'C' 'T']]]\n"
          ]
        }
      ]
    },
    {
      "cell_type": "code",
      "source": [
        "print(alignments[8].shape)\n",
        "print(alignments[8])\n",
        "alignments_int = dg.char_to_int(alignments)"
      ],
      "metadata": {
        "colab": {
          "base_uri": "https://localhost:8080/"
        },
        "id": "idfKRIVZYxDu",
        "outputId": "3a938115-8fa7-4519-de60-9d54032e58b9"
      },
      "execution_count": 58,
      "outputs": [
        {
          "output_type": "stream",
          "name": "stdout",
          "text": [
            "(2, 101, 178)\n",
            "[[['T' 'G' 'T' ... 'A' 'C' 'T']\n",
            "  ['T' 'G' 'T' ... 'A' 'C' 'T']\n",
            "  ['T' 'G' 'T' ... 'A' 'C' 'T']\n",
            "  ...\n",
            "  ['T' 'G' 'T' ... 'A' 'C' 'T']\n",
            "  ['T' 'G' 'T' ... 'A' 'C' 'T']\n",
            "  ['T' 'G' 'T' ... 'A' 'C' 'T']]\n",
            "\n",
            " [['T' 'G' 'T' ... 'A' 'C' 'T']\n",
            "  ['T' 'G' 'T' ... 'A' 'C' 'T']\n",
            "  ['T' 'G' 'T' ... 'A' 'C' 'T']\n",
            "  ...\n",
            "  ['T' 'G' 'T' ... 'A' 'C' 'T']\n",
            "  ['T' 'G' 'T' ... 'A' 'C' 'T']\n",
            "  ['T' 'G' 'T' ... 'A' 'C' 'T']]]\n"
          ]
        }
      ]
    },
    {
      "cell_type": "code",
      "source": [
        "rng = np.random.default_rng(seed=42) # use a fixed random generator so runs are consistent\n",
        "idxs = np.arange(alignments_int.shape[0])\n",
        "\n",
        "rng.shuffle(idxs)\n",
        "\n",
        "split_idx = int(alignments_int.shape[0]*0.8)\n",
        "train_alignments, valid_alignments = alignments_int[idxs[:split_idx]], alignments_int[idxs[split_idx:]]\n",
        "train_prob_lists, valid_prob_lists = np.array(prob_lists)[idxs[:split_idx]], np.array(prob_lists)[idxs[split_idx:]]\n",
        "#train_mutation_types, valid_mutation_types = mutation_types[idxs[:split_idx]], mutation_types[idxs[split_idx:]]\n",
        "print(train_alignments.shape)\n",
        "print(train_prob_lists.shape)"
      ],
      "metadata": {
        "colab": {
          "base_uri": "https://localhost:8080/"
        },
        "id": "KzfVBuKqY9oq",
        "outputId": "9d52f349-96f0-40b8-8e2c-33b5642b92e6"
      },
      "execution_count": 59,
      "outputs": [
        {
          "output_type": "stream",
          "name": "stdout",
          "text": [
            "(1600, 2, 101, 178)\n",
            "(1600, 3)\n"
          ]
        }
      ]
    },
    {
      "metadata": {
        "id": "0DjElw5MEShP",
        "outputId": "3e7d9696-edb3-47b6-8aa7-d039d21f3ecd",
        "colab": {
          "base_uri": "https://localhost:8080/"
        }
      },
      "cell_type": "code",
      "source": [
        "img_row = 101\n",
        "img_col = 178\n",
        "print(train_alignments.shape)\n",
        "print(valid_alignments.shape)\n",
        "\n",
        "\n",
        "train_alignments = train_alignments.reshape(train_alignments.shape[0], img_row, img_col, 2)\n",
        "valid_alignments = valid_alignments.reshape(valid_alignments.shape[0], img_row, img_col, 2)\n",
        "\n",
        "train_alignments = train_alignments.astype('float32')\n",
        "valid_alignments = valid_alignments.astype('float32')\n",
        "\n",
        "train_alignments /= 3\n",
        "valid_alignments /= 3\n"
      ],
      "execution_count": 64,
      "outputs": [
        {
          "output_type": "stream",
          "name": "stdout",
          "text": [
            "(1600, 101, 178, 2)\n",
            "(400, 101, 178, 2)\n"
          ]
        }
      ]
    },
    {
      "metadata": {
        "id": "MgXFuvrpEvNf"
      },
      "cell_type": "code",
      "source": [
        "model = Sequential()\n",
        "model.add(Conv2D(nb_filters, nb_conv, nb_conv))\n",
        "model.add(MaxPooling2D(pool_size = (nb_pool, nb_pool)))\n",
        "model.add(Activation('relu'))\n",
        "#model.add(Conv2D(nb_filters, nb_conv, nb_conv))\n",
        "#model.add(MaxPooling2D(pool_size = (nb_pool, nb_pool)))\n",
        "#model.add(Dropout(0.5))\n",
        "#model.add(Activation('relu'))\n",
        "#model.add(Conv2D(nb_filters, nb_conv, nb_conv))\n",
        "#model.add(MaxPooling2D(pool_size = (nb_pool, nb_pool)))\n",
        "model.add(Flatten())\n",
        "model.add(Dense(2048))\n",
        "model.add(Activation('relu'))\n",
        "model.add(Dense(1024))\n",
        "model.add(Activation('relu'))\n",
        "model.add(Dense(256))\n",
        "model.add(Activation('relu'))\n",
        "model.add(Dense(3))\n",
        "model.add(Activation('softmax'))\n",
        "model.compile(metrics=['mse'],loss='categorical_crossentropy',optimizer='adam')"
      ],
      "execution_count": 69,
      "outputs": []
    },
    {
      "metadata": {
        "id": "WzaU5D4ZIdaL",
        "outputId": "70bfbff5-ec42-4d62-87cc-c71358aaa84b",
        "colab": {
          "base_uri": "https://localhost:8080/"
        }
      },
      "cell_type": "code",
      "source": [
        "trained_model = model.fit(train_alignments, train_prob_lists, batch_size = batch_size, epochs = 50,  verbose = 1, validation_data = (valid_alignments, valid_prob_lists))"
      ],
      "execution_count": 70,
      "outputs": [
        {
          "output_type": "stream",
          "name": "stdout",
          "text": [
            "Epoch 1/50\n",
            "100/100 [==============================] - 3s 7ms/step - loss: 1.0964 - mse: 0.0316 - val_loss: 1.0553 - val_mse: 0.0235\n",
            "Epoch 2/50\n",
            "100/100 [==============================] - 1s 5ms/step - loss: 1.0466 - mse: 0.0213 - val_loss: 1.0324 - val_mse: 0.0190\n",
            "Epoch 3/50\n",
            "100/100 [==============================] - 1s 6ms/step - loss: 1.0406 - mse: 0.0202 - val_loss: 1.0310 - val_mse: 0.0187\n",
            "Epoch 4/50\n",
            "100/100 [==============================] - 1s 5ms/step - loss: 1.0399 - mse: 0.0201 - val_loss: 1.0309 - val_mse: 0.0188\n",
            "Epoch 5/50\n",
            "100/100 [==============================] - 1s 5ms/step - loss: 1.0387 - mse: 0.0199 - val_loss: 1.0293 - val_mse: 0.0185\n",
            "Epoch 6/50\n",
            "100/100 [==============================] - 1s 5ms/step - loss: 1.0382 - mse: 0.0198 - val_loss: 1.0301 - val_mse: 0.0186\n",
            "Epoch 7/50\n",
            "100/100 [==============================] - 1s 5ms/step - loss: 1.0374 - mse: 0.0197 - val_loss: 1.0274 - val_mse: 0.0181\n",
            "Epoch 8/50\n",
            "100/100 [==============================] - 1s 5ms/step - loss: 1.0392 - mse: 0.0200 - val_loss: 1.0336 - val_mse: 0.0195\n",
            "Epoch 9/50\n",
            "100/100 [==============================] - 1s 5ms/step - loss: 1.0388 - mse: 0.0199 - val_loss: 1.0337 - val_mse: 0.0197\n",
            "Epoch 10/50\n",
            "100/100 [==============================] - 1s 5ms/step - loss: 1.0370 - mse: 0.0196 - val_loss: 1.0292 - val_mse: 0.0184\n",
            "Epoch 11/50\n",
            "100/100 [==============================] - 1s 5ms/step - loss: 1.0369 - mse: 0.0196 - val_loss: 1.0273 - val_mse: 0.0181\n",
            "Epoch 12/50\n",
            "100/100 [==============================] - 1s 5ms/step - loss: 1.0359 - mse: 0.0193 - val_loss: 1.0271 - val_mse: 0.0180\n",
            "Epoch 13/50\n",
            "100/100 [==============================] - 1s 7ms/step - loss: 1.0361 - mse: 0.0193 - val_loss: 1.0274 - val_mse: 0.0181\n",
            "Epoch 14/50\n",
            "100/100 [==============================] - 1s 7ms/step - loss: 1.0364 - mse: 0.0194 - val_loss: 1.0281 - val_mse: 0.0183\n",
            "Epoch 15/50\n",
            "100/100 [==============================] - 1s 7ms/step - loss: 1.0364 - mse: 0.0194 - val_loss: 1.0295 - val_mse: 0.0186\n",
            "Epoch 16/50\n",
            "100/100 [==============================] - 1s 6ms/step - loss: 1.0357 - mse: 0.0193 - val_loss: 1.0289 - val_mse: 0.0184\n",
            "Epoch 17/50\n",
            "100/100 [==============================] - 1s 5ms/step - loss: 1.0356 - mse: 0.0192 - val_loss: 1.0308 - val_mse: 0.0188\n",
            "Epoch 18/50\n",
            "100/100 [==============================] - 1s 5ms/step - loss: 1.0360 - mse: 0.0194 - val_loss: 1.0283 - val_mse: 0.0183\n",
            "Epoch 19/50\n",
            "100/100 [==============================] - 1s 6ms/step - loss: 1.0357 - mse: 0.0193 - val_loss: 1.0302 - val_mse: 0.0188\n",
            "Epoch 20/50\n",
            "100/100 [==============================] - 1s 6ms/step - loss: 1.0354 - mse: 0.0192 - val_loss: 1.0288 - val_mse: 0.0185\n",
            "Epoch 21/50\n",
            "100/100 [==============================] - 1s 6ms/step - loss: 1.0350 - mse: 0.0190 - val_loss: 1.0285 - val_mse: 0.0183\n",
            "Epoch 22/50\n",
            "100/100 [==============================] - 1s 5ms/step - loss: 1.0375 - mse: 0.0196 - val_loss: 1.0283 - val_mse: 0.0183\n",
            "Epoch 23/50\n",
            "100/100 [==============================] - 1s 5ms/step - loss: 1.0354 - mse: 0.0192 - val_loss: 1.0283 - val_mse: 0.0183\n",
            "Epoch 24/50\n",
            "100/100 [==============================] - 1s 6ms/step - loss: 1.0350 - mse: 0.0191 - val_loss: 1.0291 - val_mse: 0.0185\n",
            "Epoch 25/50\n",
            "100/100 [==============================] - 1s 5ms/step - loss: 1.0365 - mse: 0.0194 - val_loss: 1.0287 - val_mse: 0.0183\n",
            "Epoch 26/50\n",
            "100/100 [==============================] - 1s 6ms/step - loss: 1.0346 - mse: 0.0190 - val_loss: 1.0308 - val_mse: 0.0188\n",
            "Epoch 27/50\n",
            "100/100 [==============================] - 1s 6ms/step - loss: 1.0359 - mse: 0.0193 - val_loss: 1.0357 - val_mse: 0.0197\n",
            "Epoch 28/50\n",
            "100/100 [==============================] - 1s 6ms/step - loss: 1.0354 - mse: 0.0192 - val_loss: 1.0281 - val_mse: 0.0183\n",
            "Epoch 29/50\n",
            "100/100 [==============================] - 1s 5ms/step - loss: 1.0354 - mse: 0.0192 - val_loss: 1.0312 - val_mse: 0.0189\n",
            "Epoch 30/50\n",
            "100/100 [==============================] - 1s 6ms/step - loss: 1.0351 - mse: 0.0191 - val_loss: 1.0291 - val_mse: 0.0185\n",
            "Epoch 31/50\n",
            "100/100 [==============================] - 1s 5ms/step - loss: 1.0361 - mse: 0.0193 - val_loss: 1.0319 - val_mse: 0.0190\n",
            "Epoch 32/50\n",
            "100/100 [==============================] - 1s 5ms/step - loss: 1.0346 - mse: 0.0190 - val_loss: 1.0300 - val_mse: 0.0187\n",
            "Epoch 33/50\n",
            "100/100 [==============================] - 1s 6ms/step - loss: 1.0364 - mse: 0.0194 - val_loss: 1.0335 - val_mse: 0.0192\n",
            "Epoch 34/50\n",
            "100/100 [==============================] - 1s 7ms/step - loss: 1.0351 - mse: 0.0190 - val_loss: 1.0311 - val_mse: 0.0191\n",
            "Epoch 35/50\n",
            "100/100 [==============================] - 1s 8ms/step - loss: 1.0359 - mse: 0.0193 - val_loss: 1.0308 - val_mse: 0.0190\n",
            "Epoch 36/50\n",
            "100/100 [==============================] - 1s 7ms/step - loss: 1.0360 - mse: 0.0193 - val_loss: 1.0293 - val_mse: 0.0184\n",
            "Epoch 37/50\n",
            "100/100 [==============================] - 1s 7ms/step - loss: 1.0345 - mse: 0.0190 - val_loss: 1.0287 - val_mse: 0.0183\n",
            "Epoch 38/50\n",
            "100/100 [==============================] - 1s 5ms/step - loss: 1.0350 - mse: 0.0190 - val_loss: 1.0310 - val_mse: 0.0189\n",
            "Epoch 39/50\n",
            "100/100 [==============================] - 1s 6ms/step - loss: 1.0347 - mse: 0.0190 - val_loss: 1.0297 - val_mse: 0.0187\n",
            "Epoch 40/50\n",
            "100/100 [==============================] - 0s 5ms/step - loss: 1.0347 - mse: 0.0190 - val_loss: 1.0294 - val_mse: 0.0187\n",
            "Epoch 41/50\n",
            "100/100 [==============================] - 1s 5ms/step - loss: 1.0345 - mse: 0.0190 - val_loss: 1.0286 - val_mse: 0.0185\n",
            "Epoch 42/50\n",
            "100/100 [==============================] - 1s 5ms/step - loss: 1.0339 - mse: 0.0188 - val_loss: 1.0296 - val_mse: 0.0187\n",
            "Epoch 43/50\n",
            "100/100 [==============================] - 1s 5ms/step - loss: 1.0341 - mse: 0.0189 - val_loss: 1.0310 - val_mse: 0.0188\n",
            "Epoch 44/50\n",
            "100/100 [==============================] - 1s 5ms/step - loss: 1.0344 - mse: 0.0189 - val_loss: 1.0291 - val_mse: 0.0185\n",
            "Epoch 45/50\n",
            "100/100 [==============================] - 1s 6ms/step - loss: 1.0340 - mse: 0.0188 - val_loss: 1.0290 - val_mse: 0.0185\n",
            "Epoch 46/50\n",
            "100/100 [==============================] - 1s 5ms/step - loss: 1.0344 - mse: 0.0189 - val_loss: 1.0356 - val_mse: 0.0202\n",
            "Epoch 47/50\n",
            "100/100 [==============================] - 1s 6ms/step - loss: 1.0339 - mse: 0.0188 - val_loss: 1.0312 - val_mse: 0.0190\n",
            "Epoch 48/50\n",
            "100/100 [==============================] - 1s 5ms/step - loss: 1.0349 - mse: 0.0190 - val_loss: 1.0381 - val_mse: 0.0206\n",
            "Epoch 49/50\n",
            "100/100 [==============================] - 1s 6ms/step - loss: 1.0356 - mse: 0.0192 - val_loss: 1.0298 - val_mse: 0.0187\n",
            "Epoch 50/50\n",
            "100/100 [==============================] - 1s 6ms/step - loss: 1.0346 - mse: 0.0190 - val_loss: 1.0290 - val_mse: 0.0185\n"
          ]
        }
      ]
    },
    {
      "metadata": {
        "id": "Y94rT4wX35uN",
        "colab": {
          "base_uri": "https://localhost:8080/"
        },
        "outputId": "6bf50ce1-a6d9-4d66-ebd7-d04d0584eb61"
      },
      "cell_type": "code",
      "source": [
        "model.summary()"
      ],
      "execution_count": 71,
      "outputs": [
        {
          "output_type": "stream",
          "name": "stdout",
          "text": [
            "Model: \"sequential_18\"\n",
            "_________________________________________________________________\n",
            " Layer (type)                Output Shape              Param #   \n",
            "=================================================================\n",
            " conv2d_31 (Conv2D)          (16, 12, 22, 6)           774       \n",
            "                                                                 \n",
            " max_pooling2d_28 (MaxPoolin  (16, 1, 2, 6)            0         \n",
            " g2D)                                                            \n",
            "                                                                 \n",
            " activation_93 (Activation)  (16, 1, 2, 6)             0         \n",
            "                                                                 \n",
            " flatten_17 (Flatten)        (16, 12)                  0         \n",
            "                                                                 \n",
            " dense_68 (Dense)            (16, 2048)                26624     \n",
            "                                                                 \n",
            " activation_94 (Activation)  (16, 2048)                0         \n",
            "                                                                 \n",
            " dense_69 (Dense)            (16, 1024)                2098176   \n",
            "                                                                 \n",
            " activation_95 (Activation)  (16, 1024)                0         \n",
            "                                                                 \n",
            " dense_70 (Dense)            (16, 256)                 262400    \n",
            "                                                                 \n",
            " activation_96 (Activation)  (16, 256)                 0         \n",
            "                                                                 \n",
            " dense_71 (Dense)            (16, 3)                   771       \n",
            "                                                                 \n",
            " activation_97 (Activation)  (16, 3)                   0         \n",
            "                                                                 \n",
            "=================================================================\n",
            "Total params: 2,388,745\n",
            "Trainable params: 2,388,745\n",
            "Non-trainable params: 0\n",
            "_________________________________________________________________\n"
          ]
        }
      ]
    },
    {
      "cell_type": "code",
      "source": [
        "print(model.predict(valid_alignments[8].reshape(1,img_row,img_col,2)))\n",
        "#print(valid_prob_lists[0])\n",
        "print(valid_prob_lists[8])"
      ],
      "metadata": {
        "colab": {
          "base_uri": "https://localhost:8080/"
        },
        "id": "EY4EK90se-Tg",
        "outputId": "599afb5c-6eee-4ddf-ac7a-25005937ee75"
      },
      "execution_count": 79,
      "outputs": [
        {
          "output_type": "stream",
          "name": "stdout",
          "text": [
            "1/1 [==============================] - 0s 17ms/step\n",
            "[[0.39991397 0.18762028 0.41246572]]\n",
            "[0.64205068 0.10775372 0.25019559]\n"
          ]
        }
      ]
    }
  ]
}