{
 "cells": [
  {
   "cell_type": "code",
   "execution_count": 53,
   "metadata": {},
   "outputs": [],
   "source": [
    "import numpy as np\n",
    "import PickleUtil\n",
    "import VariantCalling as vc\n",
    "import matplotlib.pyplot as plt"
   ]
  },
  {
   "cell_type": "code",
   "execution_count": 56,
   "metadata": {},
   "outputs": [],
   "source": [
    "import tensorflow as tf\n",
    "\n",
    "# Load the model from a file\n",
    "model = tf.keras.models.load_model('./drive-download/model1_2')\n",
    "model2 = tf.keras.models.load_model('./drive-download/model2_2')"
   ]
  },
  {
   "cell_type": "code",
   "execution_count": 5,
   "metadata": {},
   "outputs": [
    {
     "name": "stdout",
     "output_type": "stream",
     "text": [
      "Model: \"model\"\n",
      "_________________________________________________________________\n",
      " Layer (type)                Output Shape              Param #   \n",
      "=================================================================\n",
      " input_1 (InputLayer)        [(None, 100, 178, 1)]     0         \n",
      "                                                                 \n",
      " conv2d (Conv2D)             (None, 100, 178, 64)      4160      \n",
      "                                                                 \n",
      " conv2d_1 (Conv2D)           (None, 100, 178, 128)     73856     \n",
      "                                                                 \n",
      " conv2d_transpose (Conv2DTr  (None, 100, 178, 128)     147584    \n",
      " anspose)                                                        \n",
      "                                                                 \n",
      " conv2d_transpose_1 (Conv2D  (None, 100, 178, 64)      524352    \n",
      " Transpose)                                                      \n",
      "                                                                 \n",
      " conv2d_2 (Conv2D)           (None, 100, 178, 1)       4097      \n",
      "                                                                 \n",
      "=================================================================\n",
      "Total params: 754049 (2.88 MB)\n",
      "Trainable params: 754049 (2.88 MB)\n",
      "Non-trainable params: 0 (0.00 Byte)\n",
      "_________________________________________________________________\n"
     ]
    }
   ],
   "source": [
    "model.summary()"
   ]
  },
  {
   "cell_type": "code",
   "execution_count": 57,
   "metadata": {},
   "outputs": [
    {
     "name": "stdout",
     "output_type": "stream",
     "text": [
      "Model: \"model_1\"\n",
      "_________________________________________________________________\n",
      " Layer (type)                Output Shape              Param #   \n",
      "=================================================================\n",
      " input_2 (InputLayer)        [(None, 100, 178, 1)]     0         \n",
      "                                                                 \n",
      " conv2d_3 (Conv2D)           (None, 100, 178, 64)      2368      \n",
      "                                                                 \n",
      " conv2d_4 (Conv2D)           (None, 100, 178, 128)     73856     \n",
      "                                                                 \n",
      " conv2d_transpose_2 (Conv2D  (None, 100, 178, 128)     147584    \n",
      " Transpose)                                                      \n",
      "                                                                 \n",
      " conv2d_transpose_3 (Conv2D  (None, 100, 178, 64)      294976    \n",
      " Transpose)                                                      \n",
      "                                                                 \n",
      " conv2d_5 (Conv2D)           (None, 100, 178, 1)       2305      \n",
      "                                                                 \n",
      "=================================================================\n",
      "Total params: 521089 (1.99 MB)\n",
      "Trainable params: 521089 (1.99 MB)\n",
      "Non-trainable params: 0 (0.00 Byte)\n",
      "_________________________________________________________________\n"
     ]
    }
   ],
   "source": [
    "model2.summary()"
   ]
  },
  {
   "cell_type": "code",
   "execution_count": 6,
   "metadata": {},
   "outputs": [],
   "source": [
    "pk = PickleUtil.PickleLoader()"
   ]
  },
  {
   "cell_type": "code",
   "execution_count": 23,
   "metadata": {},
   "outputs": [],
   "source": [
    "dg = vc.VariantCallingData()"
   ]
  },
  {
   "cell_type": "code",
   "execution_count": 37,
   "metadata": {},
   "outputs": [],
   "source": [
    "def dna_sequence_to_numeric(dna_sequence_list):\n",
    "    base_mapping = {\"A\": 0, \"C\": 1, \"G\": 2, \"T\": 3}\n",
    "    num_sequences = len(dna_sequence_list)\n",
    "    max_sequence_length = max(len(seq) for seq in dna_sequence_list)\n",
    "\n",
    "    # Initialize a 2D NumPy array filled with zeros\n",
    "    numeric_array = np.zeros((num_sequences, max_sequence_length), dtype=int)\n",
    "\n",
    "    for i, seq in enumerate(dna_sequence_list):\n",
    "        for j, base in enumerate(seq):\n",
    "            numeric_array[i, j] = base_mapping.get(base, -1)\n",
    "\n",
    "    return numeric_array"
   ]
  },
  {
   "cell_type": "code",
   "execution_count": 42,
   "metadata": {},
   "outputs": [
    {
     "data": {
      "text/plain": [
       "(1, 100, 178)"
      ]
     },
     "execution_count": 42,
     "metadata": {},
     "output_type": "execute_result"
    }
   ],
   "source": [
    "[crt_data] = pk.load_pickle()\n",
    "np.array([dna_sequence_to_numeric(crt_data[0:100])]).shape"
   ]
  },
  {
   "cell_type": "code",
   "execution_count": 48,
   "metadata": {},
   "outputs": [
    {
     "data": {
      "text/plain": [
       "(1, 100, 178, 1)"
      ]
     },
     "execution_count": 48,
     "metadata": {},
     "output_type": "execute_result"
    }
   ],
   "source": [
    "crt_image_sameple = np.array([dna_sequence_to_numeric(crt_data[0:100])]).astype('float32') / 3\n",
    "crt_image_sameple = crt_image_sameple.reshape(crt_image_sameple.shape[0], 100, 178, 1)\n",
    "crt_image_sameple.shape"
   ]
  },
  {
   "cell_type": "code",
   "execution_count": 58,
   "metadata": {},
   "outputs": [
    {
     "name": "stdout",
     "output_type": "stream",
     "text": [
      "1/1 [==============================] - 0s 66ms/step\n"
     ]
    },
    {
     "name": "stderr",
     "output_type": "stream",
     "text": [
      "2023-09-09 17:29:25.183192: I tensorflow/core/grappler/optimizers/custom_graph_optimizer_registry.cc:114] Plugin optimizer for device_type GPU is enabled.\n",
      "2023-09-09 17:29:25.376034: I tensorflow/core/grappler/optimizers/custom_graph_optimizer_registry.cc:114] Plugin optimizer for device_type GPU is enabled.\n"
     ]
    },
    {
     "name": "stdout",
     "output_type": "stream",
     "text": [
      "1/1 [==============================] - 0s 193ms/step\n"
     ]
    }
   ],
   "source": [
    "denoised_image = model.predict(crt_image_sameple)\n",
    "denoised_image2 = model2.predict(np.round(np.array([denoised_image[0]]) * 3) / 3)"
   ]
  },
  {
   "cell_type": "code",
   "execution_count": 59,
   "metadata": {},
   "outputs": [],
   "source": [
    "reshaped_test_data = np.round(denoised_image[0] * 3).reshape(100,178)\n",
    "reshaped_test_data2 = np.round(denoised_image2[0] * 3).reshape(100,178)"
   ]
  },
  {
   "cell_type": "code",
   "execution_count": 60,
   "metadata": {},
   "outputs": [
    {
     "data": {
      "text/plain": [
       "<matplotlib.image.AxesImage at 0x29880c9d0>"
      ]
     },
     "execution_count": 60,
     "metadata": {},
     "output_type": "execute_result"
    },
    {
     "data": {
      "image/png": "[encoded data removed]",
      "text/plain": [
       "<Figure size 640x480 with 1 Axes>"
      ]
     },
     "metadata": {},
     "output_type": "display_data"
    }
   ],
   "source": [
    "plt.imshow(reshaped_test_data, cmap=\"jet\")"
   ]
  },
  {
   "cell_type": "code",
   "execution_count": 61,
   "metadata": {},
   "outputs": [
    {
     "data": {
      "text/plain": [
       "<matplotlib.image.AxesImage at 0x29aeb5f90>"
      ]
     },
     "execution_count": 61,
     "metadata": {},
     "output_type": "execute_result"
    },
    {
     "data": {
      "image/png": "[encoded data removed]",
      "text/plain": [
       "<Figure size 640x480 with 1 Axes>"
      ]
     },
     "metadata": {},
     "output_type": "display_data"
    }
   ],
   "source": [
    "plt.imshow(reshaped_test_data2, cmap=\"jet\")"
   ]
  },
  {
   "cell_type": "code",
   "execution_count": null,
   "metadata": {},
   "outputs": [],
   "source": []
  }
 ],
 "metadata": {
  "kernelspec": {
   "display_name": "base",
   "language": "python",
   "name": "python3"
  },
  "language_info": {
   "codemirror_mode": {
    "name": "ipython",
    "version": 3
   },
   "file_extension": ".py",
   "mimetype": "text/x-python",
   "name": "python",
   "nbconvert_exporter": "python",
   "pygments_lexer": "ipython3",
   "version": "3.11.3"
  },
  "orig_nbformat": 4
 },
 "nbformat": 4,
 "nbformat_minor": 2
}
