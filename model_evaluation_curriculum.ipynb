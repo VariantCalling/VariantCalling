{
 "cells": [
  {
   "cell_type": "code",
   "execution_count": 53,
   "metadata": {},
   "outputs": [],
   "source": [
    "import numpy as np\n",
    "import PickleUtil\n",
    "import VariantCalling as vc\n",
    "import matplotlib.pyplot as plt"
   ]
  },
  {
   "cell_type": "code",
   "execution_count": 56,
   "metadata": {},
   "outputs": [],
   "source": [
    "import tensorflow as tf\n",
    "\n",
    "# Load the model from a file\n",
    "model = tf.keras.models.load_model('./drive-download/model1_2')\n",
    "model2 = tf.keras.models.load_model('./drive-download/model2_2')"
   ]
  },
  {
   "cell_type": "code",
   "execution_count": 5,
   "metadata": {},
   "outputs": [
    {
     "name": "stdout",
     "output_type": "stream",
     "text": [
      "Model: \"model\"\n",
      "_________________________________________________________________\n",
      " Layer (type)                Output Shape              Param #   \n",
      "=================================================================\n",
      " input_1 (InputLayer)        [(None, 100, 178, 1)]     0         \n",
      "                                                                 \n",
      " conv2d (Conv2D)             (None, 100, 178, 64)      4160      \n",
      "                                                                 \n",
      " conv2d_1 (Conv2D)           (None, 100, 178, 128)     73856     \n",
      "                                                                 \n",
      " conv2d_transpose (Conv2DTr  (None, 100, 178, 128)     147584    \n",
      " anspose)                                                        \n",
      "                                                                 \n",
      " conv2d_transpose_1 (Conv2D  (None, 100, 178, 64)      524352    \n",
      " Transpose)                                                      \n",
      "                                                                 \n",
      " conv2d_2 (Conv2D)           (None, 100, 178, 1)       4097      \n",
      "                                                                 \n",
      "=================================================================\n",
      "Total params: 754049 (2.88 MB)\n",
      "Trainable params: 754049 (2.88 MB)\n",
      "Non-trainable params: 0 (0.00 Byte)\n",
      "_________________________________________________________________\n"
     ]
    }
   ],
   "source": [
    "model.summary()"
   ]
  },
  {
   "cell_type": "code",
   "execution_count": 57,
   "metadata": {},
   "outputs": [
    {
     "name": "stdout",
     "output_type": "stream",
     "text": [
      "Model: \"model_1\"\n",
      "_________________________________________________________________\n",
      " Layer (type)                Output Shape              Param #   \n",
      "=================================================================\n",
      " input_2 (InputLayer)        [(None, 100, 178, 1)]     0         \n",
      "                                                                 \n",
      " conv2d_3 (Conv2D)           (None, 100, 178, 64)      2368      \n",
      "                                                                 \n",
      " conv2d_4 (Conv2D)           (None, 100, 178, 128)     73856     \n",
      "                                                                 \n",
      " conv2d_transpose_2 (Conv2D  (None, 100, 178, 128)     147584    \n",
      " Transpose)                                                      \n",
      "                                                                 \n",
      " conv2d_transpose_3 (Conv2D  (None, 100, 178, 64)      294976    \n",
      " Transpose)                                                      \n",
      "                                                                 \n",
      " conv2d_5 (Conv2D)           (None, 100, 178, 1)       2305      \n",
      "                                                                 \n",
      "=================================================================\n",
      "Total params: 521089 (1.99 MB)\n",
      "Trainable params: 521089 (1.99 MB)\n",
      "Non-trainable params: 0 (0.00 Byte)\n",
      "_________________________________________________________________\n"
     ]
    }
   ],
   "source": [
    "model2.summary()"
   ]
  },
  {
   "cell_type": "code",
   "execution_count": 6,
   "metadata": {},
   "outputs": [],
   "source": [
    "pk = PickleUtil.PickleLoader()"
   ]
  },
  {
   "cell_type": "code",
   "execution_count": 23,
   "metadata": {},
   "outputs": [],
   "source": [
    "dg = vc.VariantCallingData()"
   ]
  },
  {
   "cell_type": "code",
   "execution_count": 37,
   "metadata": {},
   "outputs": [],
   "source": [
    "def dna_sequence_to_numeric(dna_sequence_list):\n",
    "    base_mapping = {\"A\": 0, \"C\": 1, \"G\": 2, \"T\": 3}\n",
    "    num_sequences = len(dna_sequence_list)\n",
    "    max_sequence_length = max(len(seq) for seq in dna_sequence_list)\n",
    "\n",
    "    # Initialize a 2D NumPy array filled with zeros\n",
    "    numeric_array = np.zeros((num_sequences, max_sequence_length), dtype=int)\n",
    "\n",
    "    for i, seq in enumerate(dna_sequence_list):\n",
    "        for j, base in enumerate(seq):\n",
    "            numeric_array[i, j] = base_mapping.get(base, -1)\n",
    "\n",
    "    return numeric_array"
   ]
  },
  {
   "cell_type": "code",
   "execution_count": 74,
   "metadata": {},
   "outputs": [],
   "source": [
    "[crt_data] = pk.load_pickle()"
   ]
  },
  {
   "cell_type": "code",
   "execution_count": 80,
   "metadata": {},
   "outputs": [
    {
     "data": {
      "text/plain": [
       "(1, 100, 178, 1)"
      ]
     },
     "execution_count": 80,
     "metadata": {},
     "output_type": "execute_result"
    }
   ],
   "source": [
    "crt_image_sameple = np.array([dna_sequence_to_numeric(crt_data[1140:1240])]).astype('float32') / 3\n",
    "crt_image_sameple = crt_image_sameple.reshape(crt_image_sameple.shape[0], 100, 178, 1)\n",
    "crt_image_sameple.shape"
   ]
  },
  {
   "cell_type": "code",
   "execution_count": 81,
   "metadata": {},
   "outputs": [
    {
     "name": "stdout",
     "output_type": "stream",
     "text": [
      "1/1 [==============================] - 0s 21ms/step\n",
      "1/1 [==============================] - 0s 13ms/step\n"
     ]
    }
   ],
   "source": [
    "denoised_image = model.predict(crt_image_sameple)\n",
    "denoised_image2 = model2.predict(np.round(np.array([denoised_image[0]]) * 3) / 3)"
   ]
  },
  {
   "cell_type": "code",
   "execution_count": 82,
   "metadata": {},
   "outputs": [],
   "source": [
    "reshaped_test_data = np.round(denoised_image[0] * 3).reshape(100,178)\n",
    "reshaped_test_data2 = np.round(denoised_image2[0] * 3).reshape(100,178)"
   ]
  },
  {
   "cell_type": "code",
   "execution_count": 83,
   "metadata": {},
   "outputs": [
    {
     "data": {
      "text/plain": [
       "<matplotlib.image.AxesImage at 0x29ea5bd90>"
      ]
     },
     "execution_count": 83,
     "metadata": {},
     "output_type": "execute_result"
    },
    {
     "data": {
      "image/png": "[encoded data removed]",
      "text/plain": [
       "<Figure size 640x480 with 1 Axes>"
      ]
     },
     "metadata": {},
     "output_type": "display_data"
    }
   ],
   "source": [
    "plt.imshow(reshaped_test_data, cmap=\"jet\")"
   ]
  },
  {
   "cell_type": "code",
   "execution_count": 84,
   "metadata": {},
   "outputs": [
    {
     "data": {
      "text/plain": [
       "<matplotlib.image.AxesImage at 0x29ea2bc90>"
      ]
     },
     "execution_count": 84,
     "metadata": {},
     "output_type": "execute_result"
    },
    {
     "data": {
      "image/png": "[encoded data removed]",
      "text/plain": [
       "<Figure size 640x480 with 1 Axes>"
      ]
     },
     "metadata": {},
     "output_type": "display_data"
    }
   ],
   "source": [
    "plt.imshow(reshaped_test_data2, cmap=\"jet\")"
   ]
  },
  {
   "cell_type": "code",
   "execution_count": 85,
   "metadata": {},
   "outputs": [],
   "source": [
    "clone_1  = dg.char_to_int(dg.clones[0])\n",
    "clone_2  = dg.char_to_int(dg.clones[1])\n",
    "clone_3  = dg.char_to_int(dg.clones[2])"
   ]
  },
  {
   "cell_type": "code",
   "execution_count": 86,
   "metadata": {},
   "outputs": [
    {
     "data": {
      "text/plain": [
       "[0, 0, 91, 9]"
      ]
     },
     "execution_count": 86,
     "metadata": {},
     "output_type": "execute_result"
    }
   ],
   "source": [
    "clone_counter = [0,0,0,0,]\n",
    "for row in reshaped_test_data:\n",
    "    if (row == clone_1).all():\n",
    "        clone_counter[0] += 1\n",
    "    elif (row == clone_2).all():\n",
    "        clone_counter[1] += 1\n",
    "    elif (row == clone_3).all():\n",
    "        clone_counter[2] += 1\n",
    "    else:\n",
    "        clone_counter[3] += 1\n",
    "\n",
    "clone_counter"
   ]
  },
  {
   "cell_type": "code",
   "execution_count": null,
   "metadata": {},
   "outputs": [],
   "source": []
  }
 ],
 "metadata": {
  "kernelspec": {
   "display_name": "base",
   "language": "python",
   "name": "python3"
  },
  "language_info": {
   "codemirror_mode": {
    "name": "ipython",
    "version": 3
   },
   "file_extension": ".py",
   "mimetype": "text/x-python",
   "name": "python",
   "nbconvert_exporter": "python",
   "pygments_lexer": "ipython3",
   "version": "3.11.3"
  },
  "orig_nbformat": 4
 },
 "nbformat": 4,
 "nbformat_minor": 2
}
